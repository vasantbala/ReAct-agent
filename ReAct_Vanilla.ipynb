{
  "nbformat": 4,
  "nbformat_minor": 0,
  "metadata": {
    "colab": {
      "provenance": [],
      "authorship_tag": "ABX9TyN6LSKG4CpfOPQhrpZepLCd",
      "include_colab_link": true
    },
    "kernelspec": {
      "name": "python3",
      "display_name": "Python 3"
    },
    "language_info": {
      "name": "python"
    }
  },
  "cells": [
    {
      "cell_type": "markdown",
      "metadata": {
        "id": "view-in-github",
        "colab_type": "text"
      },
      "source": [
        "<a href=\"https://colab.research.google.com/github/vasantbala/ReAct-agent/blob/main/ReAct_Vanilla.ipynb\" target=\"_parent\"><img src=\"https://colab.research.google.com/assets/colab-badge.svg\" alt=\"Open In Colab\"/></a>"
      ]
    },
    {
      "cell_type": "code",
      "execution_count": 2,
      "metadata": {
        "colab": {
          "base_uri": "https://localhost:8080/"
        },
        "id": "bEW7jY4KshYZ",
        "outputId": "32ced716-0250-4842-d774-082eac020c2a"
      },
      "outputs": [
        {
          "output_type": "stream",
          "name": "stdout",
          "text": [
            "Collecting groq\n",
            "  Downloading groq-0.18.0-py3-none-any.whl.metadata (14 kB)\n",
            "Requirement already satisfied: anyio<5,>=3.5.0 in /usr/local/lib/python3.11/dist-packages (from groq) (3.7.1)\n",
            "Requirement already satisfied: distro<2,>=1.7.0 in /usr/local/lib/python3.11/dist-packages (from groq) (1.9.0)\n",
            "Requirement already satisfied: httpx<1,>=0.23.0 in /usr/local/lib/python3.11/dist-packages (from groq) (0.28.1)\n",
            "Requirement already satisfied: pydantic<3,>=1.9.0 in /usr/local/lib/python3.11/dist-packages (from groq) (2.10.6)\n",
            "Requirement already satisfied: sniffio in /usr/local/lib/python3.11/dist-packages (from groq) (1.3.1)\n",
            "Requirement already satisfied: typing-extensions<5,>=4.10 in /usr/local/lib/python3.11/dist-packages (from groq) (4.12.2)\n",
            "Requirement already satisfied: idna>=2.8 in /usr/local/lib/python3.11/dist-packages (from anyio<5,>=3.5.0->groq) (3.10)\n",
            "Requirement already satisfied: certifi in /usr/local/lib/python3.11/dist-packages (from httpx<1,>=0.23.0->groq) (2025.1.31)\n",
            "Requirement already satisfied: httpcore==1.* in /usr/local/lib/python3.11/dist-packages (from httpx<1,>=0.23.0->groq) (1.0.7)\n",
            "Requirement already satisfied: h11<0.15,>=0.13 in /usr/local/lib/python3.11/dist-packages (from httpcore==1.*->httpx<1,>=0.23.0->groq) (0.14.0)\n",
            "Requirement already satisfied: annotated-types>=0.6.0 in /usr/local/lib/python3.11/dist-packages (from pydantic<3,>=1.9.0->groq) (0.7.0)\n",
            "Requirement already satisfied: pydantic-core==2.27.2 in /usr/local/lib/python3.11/dist-packages (from pydantic<3,>=1.9.0->groq) (2.27.2)\n",
            "Downloading groq-0.18.0-py3-none-any.whl (121 kB)\n",
            "\u001b[2K   \u001b[90m━━━━━━━━━━━━━━━━━━━━━━━━━━━━━━━━━━━━━━━━\u001b[0m \u001b[32m121.9/121.9 kB\u001b[0m \u001b[31m3.4 MB/s\u001b[0m eta \u001b[36m0:00:00\u001b[0m\n",
            "\u001b[?25hInstalling collected packages: groq\n",
            "Successfully installed groq-0.18.0\n"
          ]
        }
      ],
      "source": [
        "!pip install -U groq"
      ]
    },
    {
      "cell_type": "code",
      "source": [
        "import os\n",
        "from google.colab import userdata\n",
        "os.environ['GROQ_API_KEY'] = userdata.get('groq_api_key')"
      ],
      "metadata": {
        "id": "z1g-2O1ms_A3"
      },
      "execution_count": 4,
      "outputs": []
    },
    {
      "cell_type": "markdown",
      "source": [
        "Instantiate LLM  and verify"
      ],
      "metadata": {
        "id": "B4iZtDwLtaTu"
      }
    },
    {
      "cell_type": "code",
      "source": [
        "from groq import Groq\n",
        "client = Groq(api_key=os.environ['GROQ_API_KEY'])\n",
        "\n",
        "chat_completion = client.chat.completions.create(\n",
        "    messages=[\n",
        "        {\"role\": \"user\", \"content\": \"Explain the importance of fast language models\"}\n",
        "    ],\n",
        "    model=\"llama3-70b-8192\",\n",
        "    temperature=0\n",
        ")\n",
        "\n",
        "print(chat_completion.choices[0].message.content)"
      ],
      "metadata": {
        "colab": {
          "base_uri": "https://localhost:8080/"
        },
        "id": "DXXZhC3vtI-i",
        "outputId": "86de5d43-fc9f-4734-e0e8-176c84511c12"
      },
      "execution_count": 5,
      "outputs": [
        {
          "output_type": "stream",
          "name": "stdout",
          "text": [
            "Fast language models are crucial in today's natural language processing (NLP) landscape, and their importance can be seen in several aspects:\n",
            "\n",
            "1. **Real-time Applications**: Fast language models enable real-time applications such as chatbots, virtual assistants, and language translation systems to respond quickly and efficiently. This is particularly important in customer-facing applications where delayed responses can lead to frustration and a negative user experience.\n",
            "2. **Low-Latency Requirements**: Many applications, such as voice assistants, require language models to process and respond to user input within a few hundred milliseconds. Fast language models can meet these low-latency requirements, ensuring a seamless user experience.\n",
            "3. **Scalability**: Fast language models can handle large volumes of data and user requests, making them essential for large-scale NLP applications such as language translation, sentiment analysis, and text summarization.\n",
            "4. **Energy Efficiency**: Fast language models can reduce the computational resources and energy required to process language tasks, making them more environmentally friendly and cost-effective.\n",
            "5. **Improved Accuracy**: Faster language models can process more data and perform more iterations, leading to improved accuracy and better performance in various NLP tasks.\n",
            "6. **Enhanced User Experience**: Fast language models can enable more interactive and engaging user experiences, such as conversational interfaces, voice-controlled devices, and augmented reality applications.\n",
            "7. **Competitive Advantage**: In today's fast-paced digital landscape, companies that can deploy fast and accurate language models can gain a competitive advantage over their rivals, improving customer satisfaction and driving business success.\n",
            "8. **Research and Development**: Fast language models can accelerate research and development in NLP, enabling researchers to explore new ideas, test hypotheses, and iterate on models more quickly.\n",
            "9. **Edge Computing**: Fast language models are essential for edge computing applications, where data is processed in real-time on devices such as smartphones, smart home devices, or autonomous vehicles.\n",
            "10. **Specialized Domains**: Fast language models can be fine-tuned for specialized domains such as healthcare, finance, or law, where timely and accurate language processing is critical.\n",
            "\n",
            "To achieve fast language models, researchers and developers employ various techniques, including:\n",
            "\n",
            "1. Model pruning and knowledge distillation\n",
            "2. Quantization and binarization\n",
            "3. Efficient neural network architectures\n",
            "4. Parallel processing and distributed computing\n",
            "5. GPU acceleration and specialized hardware\n",
            "6. Caching and memoization\n",
            "7. Approximation algorithms and sampling techniques\n",
            "\n",
            "By leveraging these techniques, fast language models can unlock new possibilities in NLP, enabling applications that were previously unimaginable.\n"
          ]
        }
      ]
    },
    {
      "cell_type": "markdown",
      "source": [
        "Setup agent"
      ],
      "metadata": {
        "id": "4SY8e96Kt9a-"
      }
    },
    {
      "cell_type": "code",
      "source": [
        "class Agent:\n",
        "  def __init__(self, client: Groq, system: str = \"\") -> None:\n",
        "    self.client = client\n",
        "    self.system = system\n",
        "    self.messages: list = []\n",
        "    if self.system:\n",
        "      self.messages.append({\"role\": \"system\", \"content\": self.system})\n",
        "\n",
        "  def __call__(self, message=\"\"):\n",
        "    if message:\n",
        "      self.messages.append({\"role\": \"user\", \"content\": message})\n",
        "    result = self.execute()\n",
        "    self.messages.append({\"role\": \"assistant\", \"content\": result})\n",
        "    return result\n",
        "\n",
        "  def execute(self):\n",
        "    completion = client.chat.completions.create(\n",
        "        model=\"llama3-70b-8192\",\n",
        "        messages=self.messages,\n",
        "        temperature=0\n",
        "    )\n",
        "    return completion.choices[0].message.content"
      ],
      "metadata": {
        "id": "sr1rbbbUt6Bb"
      },
      "execution_count": 6,
      "outputs": []
    },
    {
      "cell_type": "markdown",
      "source": [
        "Define prompt for our usecase. The prompt tells the LLM how to approach a problem. This prompt is a simple example and most definitely for demo purpose only"
      ],
      "metadata": {
        "id": "S1Y_qODlujdd"
      }
    },
    {
      "cell_type": "code",
      "source": [
        "system_prompt = \"\"\"\n",
        "You run in a loop of Thought, Action, PAUSE, Observation.\n",
        "At the end of the loop you output an Answer\n",
        "Use Thought to describe your thoughts about the question you have been asked.\n",
        "Use Action to run one of the actions available to you - then return PAUSE.\n",
        "Observation will be the result of running those actions.\n",
        "\n",
        "Your available actions are:\n",
        "\n",
        "calculate:\n",
        "e.g. calculate: 4 * 7 / 3\n",
        "Runs a calculation and returns the number - uses Python so be sure to use floating point syntax if necessary\n",
        "\n",
        "wikipedia:\n",
        "e.g. wikipedia: Django\n",
        "Returns a summary from searching Wikipedia\n",
        "\n",
        "Always look things up on Wikipedia if you have the opportunity to do so.\n",
        "\n",
        "Example session:\n",
        "\n",
        "Question: What is the capital of France?\n",
        "Thought: I should look up France on Wikipedia\n",
        "Action: wikipedia: France\n",
        "PAUSE\n",
        "\n",
        "You will be called again with this:\n",
        "\n",
        "Observation: France is a country. The capital is Paris.\n",
        "Thought: I think I have found the answer\n",
        "Action: Paris.\n",
        "You should then call the appropriate action and determine the answer from the result\n",
        "\n",
        "You then output:\n",
        "\n",
        "Answer: The capital of France is Paris\n",
        "\n",
        "Example session\n",
        "\n",
        "Question: What is the mass of Earth times 2?\n",
        "Thought: I need to find the mass of Earth on Wikipedia\n",
        "Action: wikipedia : mass of earth\n",
        "PAUSE\n",
        "\n",
        "You will be called again with this:\n",
        "\n",
        "Observation: mass of earth is 1,1944×10e25\n",
        "\n",
        "Thought: I need to multiply this by 2\n",
        "Action: calculate: 5.972e24 * 2\n",
        "PAUSE\n",
        "\n",
        "You will be called again with this:\n",
        "\n",
        "Observation: 1,1944×10e25\n",
        "\n",
        "If you have the answer, output it as the Answer.\n",
        "\n",
        "Answer: The mass of Earth times 2 is 1,1944×10e25.\n",
        "\n",
        "Now it's your turn:\n",
        "\"\"\".strip()"
      ],
      "metadata": {
        "id": "oS5_p56ougnp"
      },
      "execution_count": 7,
      "outputs": []
    },
    {
      "cell_type": "markdown",
      "source": [
        "Define the Action Functions (tools)"
      ],
      "metadata": {
        "id": "f0I4P62yvEd3"
      }
    },
    {
      "cell_type": "code",
      "source": [
        "import re\n",
        "import httpx\n",
        "\n",
        "def wikipedia(q):\n",
        "  return httpx.get(\"https://en.wikipedia.org/w/api.php\", params={\n",
        "      \"action\": \"query\",\n",
        "      \"list\": \"search\",\n",
        "      \"srsearch\": q,\n",
        "      \"format\": \"json\"\n",
        "  }).json()[\"query\"][\"search\"][0][\"snippet\"]\n",
        "#\n",
        "def calculate(operation: str) -> float:\n",
        "  return eval(operation)\n",
        "#"
      ],
      "metadata": {
        "id": "pOGTZA-4vFBt"
      },
      "execution_count": 9,
      "outputs": []
    },
    {
      "cell_type": "markdown",
      "source": [
        "The next step is to define a function that uses an instantiation of the Agent. The loop function implements a loop that continues until there are no more actions (or we’ve reached the maximum number of iterations)."
      ],
      "metadata": {
        "id": "tgZP9bpdvnv9"
      }
    },
    {
      "cell_type": "code",
      "source": [
        "def loop(max_iterations=10, query: str = \"\"):\n",
        "\n",
        "    agent = Agent(client=client, system=system_prompt)\n",
        "\n",
        "    tools = [\"calculate\", \"wikipedia\"]\n",
        "\n",
        "    next_prompt = query\n",
        "\n",
        "    i = 0\n",
        "\n",
        "    while i < max_iterations:\n",
        "        i += 1\n",
        "        result = agent(next_prompt)\n",
        "        print(result)\n",
        "\n",
        "        if \"PAUSE\" in result and \"Action\" in result:\n",
        "            action = re.findall(r\"Action: ([a-z_]+): (.+)\", result, re.IGNORECASE)\n",
        "            print(action)\n",
        "            chosen_tool = action[0][0]\n",
        "            arg = action[0][1]\n",
        "\n",
        "            if chosen_tool in tools:\n",
        "                result_tool = eval(f\"{chosen_tool}('{arg}')\")\n",
        "                next_prompt = f\"Observation: {result_tool}\"\n",
        "\n",
        "            else:\n",
        "                next_prompt = \"Observation: Tool not found\"\n",
        "\n",
        "            print(next_prompt)\n",
        "            continue\n",
        "\n",
        "        if \"Answer\" in result:\n",
        "            break\n"
      ],
      "metadata": {
        "id": "gVSXXocVvC9V"
      },
      "execution_count": 12,
      "outputs": []
    },
    {
      "cell_type": "markdown",
      "source": [
        "Test the agent"
      ],
      "metadata": {
        "id": "uyKScng-wzu3"
      }
    },
    {
      "cell_type": "code",
      "source": [
        "loop(query=\"What is the current age of Donald Trump multiplied by 2?\")"
      ],
      "metadata": {
        "colab": {
          "base_uri": "https://localhost:8080/"
        },
        "id": "IpHHT_lSwxGk",
        "outputId": "65736e86-326d-404c-bc89-4c8f5c238de6"
      },
      "execution_count": 13,
      "outputs": [
        {
          "output_type": "stream",
          "name": "stdout",
          "text": [
            "Thought: I need to find the birthdate of Donald Trump on Wikipedia.\n",
            "Action: wikipedia: Donald Trump\n",
            "PAUSE\n",
            "[('wikipedia', 'Donald Trump')]\n",
            "Observation: <span class=\"searchmatch\">Donald</span> John <span class=\"searchmatch\">Trump</span> (born June 14, 1946) is an American politician, media personality, and businessman who is the 47th president of the United States. A\n",
            "Thought: I have found the birthdate of Donald Trump, now I need to calculate his current age.\n",
            "Action: calculate: 2023 - 1946\n",
            "PAUSE\n",
            "[('calculate', '2023 - 1946')]\n",
            "Observation: 77\n",
            "Thought: I have calculated Donald Trump's current age, now I need to multiply it by 2.\n",
            "Action: calculate: 77 * 2\n",
            "PAUSE\n",
            "[('calculate', '77 * 2')]\n",
            "Observation: 154\n",
            "Thought: I have calculated the result of multiplying Donald Trump's current age by 2.\n",
            "Answer: The current age of Donald Trump multiplied by 2 is 154.\n"
          ]
        }
      ]
    },
    {
      "cell_type": "code",
      "source": [
        "loop(query=\"What is the longest river in the World? What is the length of the river in km?\")"
      ],
      "metadata": {
        "colab": {
          "base_uri": "https://localhost:8080/"
        },
        "id": "1xVPKXd9w_BE",
        "outputId": "fb5853ac-2c46-4d8e-dc2c-c32d72f3dd6a"
      },
      "execution_count": 14,
      "outputs": [
        {
          "output_type": "stream",
          "name": "stdout",
          "text": [
            "Thought: I should look up the longest river in the world on Wikipedia.\n",
            "\n",
            "Action: wikipedia: longest river\n",
            "PAUSE\n",
            "[('wikipedia', 'longest river')]\n",
            "Observation: This is a list of the <span class=\"searchmatch\">longest</span> <span class=\"searchmatch\">rivers</span> on Earth. It includes <span class=\"searchmatch\">river</span> systems over 1,000 kilometres (620 mi) in length. There are many factors, such as the\n",
            "Thought: It seems like I have found a list of longest rivers, but I need to find the specific longest river and its length.\n",
            "\n",
            "Action: wikipedia: Nile River\n",
            "PAUSE\n",
            "[('wikipedia', 'Nile River')]\n",
            "Observation: The <span class=\"searchmatch\">Nile</span> (also known as the <span class=\"searchmatch\">Nile</span> <span class=\"searchmatch\">River</span> or <span class=\"searchmatch\">River</span> <span class=\"searchmatch\">Nile</span>) is a major north-flowing <span class=\"searchmatch\">river</span> in northeastern Africa. It flows into the Mediterranean Sea. The Nile\n",
            "Thought: I think I have found the longest river, which is the Nile River. Now I need to find its length.\n",
            "\n",
            "Action: wikipedia: length of the Nile River\n",
            "PAUSE\n",
            "[('wikipedia', 'length of the Nile River')]\n",
            "Observation: in <span class=\"searchmatch\">the</span> International Journal <span class=\"searchmatch\">of</span> Digital Earth concludes that <span class=\"searchmatch\">the</span> <span class=\"searchmatch\">Nile</span> is longer. While this does tie in with <span class=\"searchmatch\">the</span> coastline paradox in that <span class=\"searchmatch\">the</span> <span class=\"searchmatch\">length</span> increases\n",
            "Thought: It seems like I have found some information about the length of the Nile River, but it's not explicitly stated. I need to find a more direct answer.\n",
            "\n",
            "Action: wikipedia: Nile River\n",
            "PAUSE\n",
            "[('wikipedia', 'Nile River')]\n",
            "Observation: The <span class=\"searchmatch\">Nile</span> (also known as the <span class=\"searchmatch\">Nile</span> <span class=\"searchmatch\">River</span> or <span class=\"searchmatch\">River</span> <span class=\"searchmatch\">Nile</span>) is a major north-flowing <span class=\"searchmatch\">river</span> in northeastern Africa. It flows into the Mediterranean Sea. The Nile\n",
            "Thought: I've been to this page before, but I didn't find the length of the Nile River. Let me try to find it again.\n",
            "\n",
            "Action: wikipedia: Nile River#Length\n",
            "PAUSE\n",
            "[('wikipedia', 'Nile River#Length')]\n",
            "Observation: The <span class=\"searchmatch\">Nile</span> (also known as the <span class=\"searchmatch\">Nile</span> <span class=\"searchmatch\">River</span> or <span class=\"searchmatch\">River</span> <span class=\"searchmatch\">Nile</span>) is a major north-flowing <span class=\"searchmatch\">river</span> in northeastern Africa. It flows into the Mediterranean Sea. The Nile\n",
            "Thought: I still can't find the length of the Nile River. Let me try to find it in a different way.\n",
            "\n",
            "Action: wikipedia: Nile\n",
            "PAUSE\n",
            "[('wikipedia', 'Nile')]\n",
            "Observation: The <span class=\"searchmatch\">Nile</span> (also known as the <span class=\"searchmatch\">Nile</span> River or River <span class=\"searchmatch\">Nile</span>) is a major north-flowing river in northeastern Africa. It flows into the Mediterranean Sea. The Nile\n",
            "Thought: I've been to this page multiple times, but I still can't find the length of the Nile River. Let me try to find it in a different way.\n",
            "\n",
            "Action: wikipedia: Nile River length\n",
            "PAUSE\n",
            "[('wikipedia', 'Nile River length')]\n",
            "Observation: The <span class=\"searchmatch\">Nile</span> (also known as the <span class=\"searchmatch\">Nile</span> <span class=\"searchmatch\">River</span> or <span class=\"searchmatch\">River</span> <span class=\"searchmatch\">Nile</span>) is a major north-flowing <span class=\"searchmatch\">river</span> in northeastern Africa. It flows into the Mediterranean Sea. The Nile\n",
            "Thought: I've been to this page multiple times, but I still can't find the length of the Nile River. Let me try to find it in a different way.\n",
            "\n",
            "Action: wikipedia: Nile\n",
            "PAUSE\n",
            "[('wikipedia', 'Nile')]\n",
            "Observation: The <span class=\"searchmatch\">Nile</span> (also known as the <span class=\"searchmatch\">Nile</span> River or River <span class=\"searchmatch\">Nile</span>) is a major north-flowing river in northeastern Africa. It flows into the Mediterranean Sea. The Nile\n",
            "Thought: I've been to this page multiple times, but I still can't find the length of the Nile River. Let me try to scroll down and find it.\n",
            "\n",
            "Action: wikipedia: Nile#Course\n",
            "PAUSE\n",
            "[('wikipedia', 'Nile#Course')]\n",
            "Observation: The <span class=\"searchmatch\">Nile</span> (also known as the <span class=\"searchmatch\">Nile</span> River or River <span class=\"searchmatch\">Nile</span>) is a major north-flowing river in northeastern Africa. It flows into the Mediterranean Sea. The Nile\n",
            "Thought: I've been to this page multiple times, but I still can't find the length of the Nile River. Let me try to scroll down and find it.\n",
            "\n",
            "Action: wikipedia: Nile#Length and course\n",
            "PAUSE\n",
            "[('wikipedia', 'Nile#Length and course')]\n",
            "Observation: The <span class=\"searchmatch\">Nile</span> (also known as the <span class=\"searchmatch\">Nile</span> River or River <span class=\"searchmatch\">Nile</span>) is a major north-flowing river in northeastern Africa. It flows into the Mediterranean Sea. The Nile\n"
          ]
        }
      ]
    },
    {
      "cell_type": "code",
      "source": [],
      "metadata": {
        "id": "sRsm0o7ZxeQk"
      },
      "execution_count": null,
      "outputs": []
    }
  ]
}